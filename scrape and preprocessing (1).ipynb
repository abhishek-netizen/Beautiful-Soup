{
 "cells": [
  {
   "cell_type": "code",
   "execution_count": 1,
   "metadata": {},
   "outputs": [],
   "source": [
    "# load library\n",
    "import csv\n",
    "import time\n",
    "from selenium import webdriver\n",
    "import pandas as pd\n",
    "from bs4 import BeautifulSoup"
   ]
  },
  {
   "cell_type": "code",
   "execution_count": 7,
   "metadata": {},
   "outputs": [],
   "source": [
    "# chromedriver url link\n",
    "driver=webdriver.Chrome(\"./chromedriver\")"
   ]
  },
  {
   "cell_type": "code",
   "execution_count": 8,
   "metadata": {},
   "outputs": [],
   "source": [
    "# create dictionary\n",
    "jobs={\"roles\":[],\n",
    "     \"companies\":[],\n",
    "     \"locations\":[],\n",
    "     \"experience\":[],\n",
    "     \"skills\":[],\n",
    "     \"salary\":[],\n",
    "     \"job_desc\":[]}"
   ]
  },
  {
   "cell_type": "code",
   "execution_count": 26,
   "metadata": {},
   "outputs": [],
   "source": [
    "for i in range(301):\n",
    "    driver.get(\"https://www.naukri.com/machine-learning-jobs-{}\".format(i))\n",
    "    time.sleep(3)\n",
    "    lst=driver.find_elements_by_css_selector(\".jobTuple.bgWhite.br4.mb-8\")\n",
    "    \n",
    "    # scrape the data from website\n",
    "    for job in lst:\n",
    "        driver.implicitly_wait(10)\n",
    "        try:\n",
    "            role=job.find_element_by_css_selector(\"a.title.fw500.ellipsis\").text\n",
    "        except:\n",
    "            role='None'\n",
    "        try:\n",
    "            company=job.find_element_by_css_selector(\"a.subTitle.ellipsis.fleft\").text\n",
    "        except:\n",
    "            company='None'\n",
    "        try:\n",
    "            location=job.find_element_by_css_selector(\".fleft.grey-text.br2.placeHolderLi.location\").text\n",
    "        except:\n",
    "            location='None'\n",
    "        try:\n",
    "            exp=job.find_element_by_css_selector(\".fleft.grey-text.br2.placeHolderLi.experience\").text\n",
    "        except:\n",
    "            exp='None'\n",
    "        try:\n",
    "            skills=job.find_element_by_css_selector(\".tags.has-description\").text\n",
    "        except:\n",
    "            skills='None'\n",
    "        try:\n",
    "            salary=job.find_element_by_css_selector(\".fleft.grey-text.br2.placeHolderLi.salary\").text\n",
    "        except:\n",
    "            salary='None'\n",
    "        try:\n",
    "            job_desc=job.find_element_by_css_selector(\".job-description.fs12.grey-text\").text\n",
    "        except:\n",
    "            job_desc='None'\n",
    "            \n",
    "        jobs[\"roles\"].append(role)\n",
    "        jobs[\"companies\"].append(company)\n",
    "        jobs[\"locations\"].append(location)\n",
    "        jobs[\"experience\"].append(exp)\n",
    "        jobs[\"skills\"].append(skills)\n",
    "        jobs[\"salary\"].append(salary)\n",
    "        jobs[\"job_desc\"].append(job_desc)"
   ]
  },
  {
   "cell_type": "code",
   "execution_count": 48,
   "metadata": {},
   "outputs": [
    {
     "data": {
      "text/html": [
       "<div>\n",
       "<style scoped>\n",
       "    .dataframe tbody tr th:only-of-type {\n",
       "        vertical-align: middle;\n",
       "    }\n",
       "\n",
       "    .dataframe tbody tr th {\n",
       "        vertical-align: top;\n",
       "    }\n",
       "\n",
       "    .dataframe thead th {\n",
       "        text-align: right;\n",
       "    }\n",
       "</style>\n",
       "<table border=\"1\" class=\"dataframe\">\n",
       "  <thead>\n",
       "    <tr style=\"text-align: right;\">\n",
       "      <th></th>\n",
       "      <th>roles</th>\n",
       "      <th>companies</th>\n",
       "      <th>locations</th>\n",
       "      <th>experience</th>\n",
       "      <th>skills</th>\n",
       "    </tr>\n",
       "  </thead>\n",
       "  <tbody>\n",
       "    <tr>\n",
       "      <th>0</th>\n",
       "      <td>Senior Principal Software Engineer - IT (Data ...</td>\n",
       "      <td>Dell International Services IndiaPrivate Limited</td>\n",
       "      <td>Bengaluru</td>\n",
       "      <td>10-12 Yrs</td>\n",
       "      <td>IT Skills\\nPython\\nTesting\\nMachine Learning\\n...</td>\n",
       "    </tr>\n",
       "    <tr>\n",
       "      <th>1</th>\n",
       "      <td>Data Scientist/Analyst - Machine Learning/Deep...</td>\n",
       "      <td>EchoIndia</td>\n",
       "      <td>Delhi</td>\n",
       "      <td>3-6 Yrs</td>\n",
       "      <td>IT Skills\\nPython\\nMachine Learning\\nTableau\\n...</td>\n",
       "    </tr>\n",
       "    <tr>\n",
       "      <th>2</th>\n",
       "      <td>Data Scientist, Machine Learning</td>\n",
       "      <td>Fractal Analytics Ltd</td>\n",
       "      <td>Bengaluru</td>\n",
       "      <td>3-7 Yrs</td>\n",
       "      <td>Supply chain management\\nLinux\\nRF\\nRDBMS\\nBfs...</td>\n",
       "    </tr>\n",
       "    <tr>\n",
       "      <th>3</th>\n",
       "      <td>Data Scientist, I</td>\n",
       "      <td>iXplore Technologies</td>\n",
       "      <td>Bengaluru</td>\n",
       "      <td>0-2 Yrs</td>\n",
       "      <td>IT Skills\\nSoftware Development\\nMachine Learn...</td>\n",
       "    </tr>\n",
       "    <tr>\n",
       "      <th>4</th>\n",
       "      <td>Explore job openings on Data Scientist!!</td>\n",
       "      <td>Bristlecone India Limited</td>\n",
       "      <td>Pune, Mumbai, Bengaluru</td>\n",
       "      <td>4-9 Yrs</td>\n",
       "      <td>IT Skills\\nPython\\nData Science\\nMachine Learn...</td>\n",
       "    </tr>\n",
       "    <tr>\n",
       "      <th>5</th>\n",
       "      <td>Inviting Application For Data Scientist - Mana...</td>\n",
       "      <td>GENPACT India Private Limited</td>\n",
       "      <td>Bengaluru</td>\n",
       "      <td>6-11 Yrs</td>\n",
       "      <td>Machine Learning\\nStatistics\\nDeep Learning\\nR...</td>\n",
       "    </tr>\n",
       "    <tr>\n",
       "      <th>6</th>\n",
       "      <td>Data Scientist/Analyst – IT Department</td>\n",
       "      <td>Nandan Denim Limited</td>\n",
       "      <td>Ahmedabad</td>\n",
       "      <td>7-8 Yrs</td>\n",
       "      <td>Data Analysis\\nStatistical Modeling\\nPredictiv...</td>\n",
       "    </tr>\n",
       "    <tr>\n",
       "      <th>7</th>\n",
       "      <td>Data Scientist/Analyst – IT Department</td>\n",
       "      <td>Nandan Denim Limited</td>\n",
       "      <td>Ahmedabad</td>\n",
       "      <td>7-8 Yrs</td>\n",
       "      <td>Data Analysis\\nStatistical Modeling\\nPredictiv...</td>\n",
       "    </tr>\n",
       "    <tr>\n",
       "      <th>8</th>\n",
       "      <td>Data Scientist, Machine Learning</td>\n",
       "      <td>Fractal.ai</td>\n",
       "      <td>Bengaluru</td>\n",
       "      <td>3-7 Yrs</td>\n",
       "      <td>Supply chain management\\nLinux\\nRF\\nRDBMS\\nBfs...</td>\n",
       "    </tr>\n",
       "    <tr>\n",
       "      <th>9</th>\n",
       "      <td>Data Scientist - Machine Learning</td>\n",
       "      <td>Catalyst</td>\n",
       "      <td>Bengaluru</td>\n",
       "      <td>2-7 Yrs</td>\n",
       "      <td>Data Science\\nData Quality\\nData Scientist\\nSt...</td>\n",
       "    </tr>\n",
       "  </tbody>\n",
       "</table>\n",
       "</div>"
      ],
      "text/plain": [
       "                                               roles  \\\n",
       "0  Senior Principal Software Engineer - IT (Data ...   \n",
       "1  Data Scientist/Analyst - Machine Learning/Deep...   \n",
       "2                   Data Scientist, Machine Learning   \n",
       "3                                  Data Scientist, I   \n",
       "4           Explore job openings on Data Scientist!!   \n",
       "5  Inviting Application For Data Scientist - Mana...   \n",
       "6             Data Scientist/Analyst – IT Department   \n",
       "7             Data Scientist/Analyst – IT Department   \n",
       "8                   Data Scientist, Machine Learning   \n",
       "9                  Data Scientist - Machine Learning   \n",
       "\n",
       "                                          companies                locations  \\\n",
       "0  Dell International Services IndiaPrivate Limited                Bengaluru   \n",
       "1                                         EchoIndia                    Delhi   \n",
       "2                             Fractal Analytics Ltd                Bengaluru   \n",
       "3                              iXplore Technologies                Bengaluru   \n",
       "4                         Bristlecone India Limited  Pune, Mumbai, Bengaluru   \n",
       "5                     GENPACT India Private Limited                Bengaluru   \n",
       "6                              Nandan Denim Limited                Ahmedabad   \n",
       "7                              Nandan Denim Limited                Ahmedabad   \n",
       "8                                        Fractal.ai                Bengaluru   \n",
       "9                                          Catalyst                Bengaluru   \n",
       "\n",
       "  experience                                             skills  \n",
       "0  10-12 Yrs  IT Skills\\nPython\\nTesting\\nMachine Learning\\n...  \n",
       "1    3-6 Yrs  IT Skills\\nPython\\nMachine Learning\\nTableau\\n...  \n",
       "2    3-7 Yrs  Supply chain management\\nLinux\\nRF\\nRDBMS\\nBfs...  \n",
       "3    0-2 Yrs  IT Skills\\nSoftware Development\\nMachine Learn...  \n",
       "4    4-9 Yrs  IT Skills\\nPython\\nData Science\\nMachine Learn...  \n",
       "5   6-11 Yrs  Machine Learning\\nStatistics\\nDeep Learning\\nR...  \n",
       "6    7-8 Yrs  Data Analysis\\nStatistical Modeling\\nPredictiv...  \n",
       "7    7-8 Yrs  Data Analysis\\nStatistical Modeling\\nPredictiv...  \n",
       "8    3-7 Yrs  Supply chain management\\nLinux\\nRF\\nRDBMS\\nBfs...  \n",
       "9    2-7 Yrs  Data Science\\nData Quality\\nData Scientist\\nSt...  "
      ]
     },
     "execution_count": 48,
     "metadata": {},
     "output_type": "execute_result"
    }
   ],
   "source": [
    "data_ml_again=pd.DataFrame.from_dict(jobs)\n",
    "data_ml_again.head(10)"
   ]
  },
  {
   "cell_type": "code",
   "execution_count": 49,
   "metadata": {},
   "outputs": [
    {
     "data": {
      "text/plain": [
       "(12469, 5)"
      ]
     },
     "execution_count": 49,
     "metadata": {},
     "output_type": "execute_result"
    }
   ],
   "source": [
    "data_ml_again.shape"
   ]
  },
  {
   "cell_type": "code",
   "execution_count": 50,
   "metadata": {},
   "outputs": [],
   "source": [
    "#data_ml_again.to_csv('C:/Users/hp/Desktop/web scrape/data_ml_again.csv',index=True)"
   ]
  },
  {
   "cell_type": "code",
   "execution_count": 32,
   "metadata": {},
   "outputs": [],
   "source": [
    "#data.to_excel('C:/Users/hp/Desktop/web scrape/data_ml_again.xlsx',index=True)"
   ]
  },
  {
   "cell_type": "code",
   "execution_count": 2,
   "metadata": {},
   "outputs": [],
   "source": [
    "import pandas as pd"
   ]
  },
  {
   "cell_type": "code",
   "execution_count": 3,
   "metadata": {},
   "outputs": [],
   "source": [
    "data = pd.read_csv(\"data_ml_again.csv\")"
   ]
  },
  {
   "cell_type": "code",
   "execution_count": 259,
   "metadata": {},
   "outputs": [
    {
     "data": {
      "text/html": [
       "<div>\n",
       "<style scoped>\n",
       "    .dataframe tbody tr th:only-of-type {\n",
       "        vertical-align: middle;\n",
       "    }\n",
       "\n",
       "    .dataframe tbody tr th {\n",
       "        vertical-align: top;\n",
       "    }\n",
       "\n",
       "    .dataframe thead th {\n",
       "        text-align: right;\n",
       "    }\n",
       "</style>\n",
       "<table border=\"1\" class=\"dataframe\">\n",
       "  <thead>\n",
       "    <tr style=\"text-align: right;\">\n",
       "      <th></th>\n",
       "      <th>Unnamed: 0</th>\n",
       "      <th>roles</th>\n",
       "      <th>companies</th>\n",
       "      <th>locations</th>\n",
       "      <th>experience</th>\n",
       "      <th>skills</th>\n",
       "      <th>salary</th>\n",
       "      <th>job_desc</th>\n",
       "    </tr>\n",
       "  </thead>\n",
       "  <tbody>\n",
       "    <tr>\n",
       "      <th>0</th>\n",
       "      <td>0</td>\n",
       "      <td>Artificial Intelligence/Machine learning/Data ...</td>\n",
       "      <td>Spectrum Consultants India Pvt Ltd.</td>\n",
       "      <td>Bengaluru</td>\n",
       "      <td>8-13 Yrs</td>\n",
       "      <td>Computer science\\nElectrical engineering\\ndeep...</td>\n",
       "      <td>Not disclosed</td>\n",
       "      <td>Master s or PhD in computer science, electrica...</td>\n",
       "    </tr>\n",
       "    <tr>\n",
       "      <th>1</th>\n",
       "      <td>1</td>\n",
       "      <td>Machine Learning Engineer</td>\n",
       "      <td>Alstom Transport India Ltd.</td>\n",
       "      <td>Bengaluru</td>\n",
       "      <td>2-7 Yrs</td>\n",
       "      <td>NLP\\nArtificial Intelligence\\nNeural Networks\\...</td>\n",
       "      <td>Not disclosed</td>\n",
       "      <td>Understanding and experience with leading supe...</td>\n",
       "    </tr>\n",
       "    <tr>\n",
       "      <th>2</th>\n",
       "      <td>2</td>\n",
       "      <td>Data Scientist, Machine Learning</td>\n",
       "      <td>Fractal Analytics Ltd</td>\n",
       "      <td>Bengaluru</td>\n",
       "      <td>3-7 Yrs</td>\n",
       "      <td>Supply chain management\\nLinux\\nRF\\nRDBMS\\nBfs...</td>\n",
       "      <td>Not disclosed</td>\n",
       "      <td>Experience of working on end-to-end data scien...</td>\n",
       "    </tr>\n",
       "    <tr>\n",
       "      <th>3</th>\n",
       "      <td>3</td>\n",
       "      <td>Analytics Designer - Machine Learning, Big dat...</td>\n",
       "      <td>Tata Consultancy Services Ltd.</td>\n",
       "      <td>Chennai, Pune, Delhi NCR, Mumbai, Bengaluru, H...</td>\n",
       "      <td>5-10 Yrs</td>\n",
       "      <td>IT Skills\\nJava\\nPython\\nMachine Learning\\nClo...</td>\n",
       "      <td>Not disclosed</td>\n",
       "      <td>Job Title :Analytics Designer - Machine Learni...</td>\n",
       "    </tr>\n",
       "    <tr>\n",
       "      <th>4</th>\n",
       "      <td>4</td>\n",
       "      <td>Artificial Intelligence Expert - Data Scientis...</td>\n",
       "      <td>New Era India</td>\n",
       "      <td>United States</td>\n",
       "      <td>11-15 Yrs</td>\n",
       "      <td>IT Skills\\nMachine Learning\\nSpeech Recognitio...</td>\n",
       "      <td>Not disclosed</td>\n",
       "      <td>JD: a) Machine Learning b) Computer Vision: c)...</td>\n",
       "    </tr>\n",
       "  </tbody>\n",
       "</table>\n",
       "</div>"
      ],
      "text/plain": [
       "   Unnamed: 0                                              roles  \\\n",
       "0           0  Artificial Intelligence/Machine learning/Data ...   \n",
       "1           1                          Machine Learning Engineer   \n",
       "2           2                   Data Scientist, Machine Learning   \n",
       "3           3  Analytics Designer - Machine Learning, Big dat...   \n",
       "4           4  Artificial Intelligence Expert - Data Scientis...   \n",
       "\n",
       "                             companies  \\\n",
       "0  Spectrum Consultants India Pvt Ltd.   \n",
       "1          Alstom Transport India Ltd.   \n",
       "2                Fractal Analytics Ltd   \n",
       "3       Tata Consultancy Services Ltd.   \n",
       "4                        New Era India   \n",
       "\n",
       "                                           locations experience  \\\n",
       "0                                          Bengaluru   8-13 Yrs   \n",
       "1                                          Bengaluru    2-7 Yrs   \n",
       "2                                          Bengaluru    3-7 Yrs   \n",
       "3  Chennai, Pune, Delhi NCR, Mumbai, Bengaluru, H...   5-10 Yrs   \n",
       "4                                      United States  11-15 Yrs   \n",
       "\n",
       "                                              skills         salary  \\\n",
       "0  Computer science\\nElectrical engineering\\ndeep...  Not disclosed   \n",
       "1  NLP\\nArtificial Intelligence\\nNeural Networks\\...  Not disclosed   \n",
       "2  Supply chain management\\nLinux\\nRF\\nRDBMS\\nBfs...  Not disclosed   \n",
       "3  IT Skills\\nJava\\nPython\\nMachine Learning\\nClo...  Not disclosed   \n",
       "4  IT Skills\\nMachine Learning\\nSpeech Recognitio...  Not disclosed   \n",
       "\n",
       "                                            job_desc  \n",
       "0  Master s or PhD in computer science, electrica...  \n",
       "1  Understanding and experience with leading supe...  \n",
       "2  Experience of working on end-to-end data scien...  \n",
       "3  Job Title :Analytics Designer - Machine Learni...  \n",
       "4  JD: a) Machine Learning b) Computer Vision: c)...  "
      ]
     },
     "execution_count": 259,
     "metadata": {},
     "output_type": "execute_result"
    }
   ],
   "source": [
    "data.head(5)"
   ]
  },
  {
   "cell_type": "code",
   "execution_count": 260,
   "metadata": {},
   "outputs": [
    {
     "data": {
      "text/plain": [
       "(5999, 8)"
      ]
     },
     "execution_count": 260,
     "metadata": {},
     "output_type": "execute_result"
    }
   ],
   "source": [
    "data.shape"
   ]
  },
  {
   "cell_type": "code",
   "execution_count": 261,
   "metadata": {},
   "outputs": [
    {
     "data": {
      "text/plain": [
       "Unnamed: 0     int64\n",
       "roles         object\n",
       "companies     object\n",
       "locations     object\n",
       "experience    object\n",
       "skills        object\n",
       "salary        object\n",
       "job_desc      object\n",
       "dtype: object"
      ]
     },
     "execution_count": 261,
     "metadata": {},
     "output_type": "execute_result"
    }
   ],
   "source": [
    "data.dtypes"
   ]
  },
  {
   "cell_type": "code",
   "execution_count": 262,
   "metadata": {},
   "outputs": [
    {
     "name": "stdout",
     "output_type": "stream",
     "text": [
      "<class 'pandas.core.frame.DataFrame'>\n",
      "RangeIndex: 5999 entries, 0 to 5998\n",
      "Data columns (total 8 columns):\n",
      " #   Column      Non-Null Count  Dtype \n",
      "---  ------      --------------  ----- \n",
      " 0   Unnamed: 0  5999 non-null   int64 \n",
      " 1   roles       5999 non-null   object\n",
      " 2   companies   5999 non-null   object\n",
      " 3   locations   5999 non-null   object\n",
      " 4   experience  5999 non-null   object\n",
      " 5   skills      5999 non-null   object\n",
      " 6   salary      5999 non-null   object\n",
      " 7   job_desc    5999 non-null   object\n",
      "dtypes: int64(1), object(7)\n",
      "memory usage: 375.1+ KB\n"
     ]
    }
   ],
   "source": [
    "# information about columns in dataframe\n",
    "data.info()"
   ]
  },
  {
   "cell_type": "code",
   "execution_count": 263,
   "metadata": {},
   "outputs": [
    {
     "data": {
      "text/plain": [
       "Unnamed: 0    0\n",
       "roles         0\n",
       "companies     0\n",
       "locations     0\n",
       "experience    0\n",
       "skills        0\n",
       "salary        0\n",
       "job_desc      0\n",
       "dtype: int64"
      ]
     },
     "execution_count": 263,
     "metadata": {},
     "output_type": "execute_result"
    }
   ],
   "source": [
    "# check if any data have null values\n",
    "data.isnull().sum()"
   ]
  },
  {
   "cell_type": "markdown",
   "metadata": {},
   "source": [
    "## Pre-Processing:-"
   ]
  },
  {
   "cell_type": "code",
   "execution_count": 4,
   "metadata": {},
   "outputs": [
    {
     "data": {
      "text/html": [
       "<div>\n",
       "<style scoped>\n",
       "    .dataframe tbody tr th:only-of-type {\n",
       "        vertical-align: middle;\n",
       "    }\n",
       "\n",
       "    .dataframe tbody tr th {\n",
       "        vertical-align: top;\n",
       "    }\n",
       "\n",
       "    .dataframe thead th {\n",
       "        text-align: right;\n",
       "    }\n",
       "</style>\n",
       "<table border=\"1\" class=\"dataframe\">\n",
       "  <thead>\n",
       "    <tr style=\"text-align: right;\">\n",
       "      <th></th>\n",
       "      <th>Unnamed: 0</th>\n",
       "      <th>roles</th>\n",
       "      <th>companies</th>\n",
       "      <th>locations</th>\n",
       "      <th>experience</th>\n",
       "      <th>skills</th>\n",
       "      <th>salary</th>\n",
       "      <th>job_desc</th>\n",
       "    </tr>\n",
       "  </thead>\n",
       "  <tbody>\n",
       "    <tr>\n",
       "      <th>0</th>\n",
       "      <td>0</td>\n",
       "      <td>artificial intelligence/machine learning/data ...</td>\n",
       "      <td>spectrum consultants india pvt ltd.</td>\n",
       "      <td>bengaluru</td>\n",
       "      <td>8-13 yrs</td>\n",
       "      <td>computer science\\nelectrical engineering\\ndeep...</td>\n",
       "      <td>not disclosed</td>\n",
       "      <td>master s or phd in computer science, electrica...</td>\n",
       "    </tr>\n",
       "    <tr>\n",
       "      <th>1</th>\n",
       "      <td>1</td>\n",
       "      <td>machine learning engineer</td>\n",
       "      <td>alstom transport india ltd.</td>\n",
       "      <td>bengaluru</td>\n",
       "      <td>2-7 yrs</td>\n",
       "      <td>nlp\\nartificial intelligence\\nneural networks\\...</td>\n",
       "      <td>not disclosed</td>\n",
       "      <td>understanding and experience with leading supe...</td>\n",
       "    </tr>\n",
       "    <tr>\n",
       "      <th>2</th>\n",
       "      <td>2</td>\n",
       "      <td>data scientist, machine learning</td>\n",
       "      <td>fractal analytics ltd</td>\n",
       "      <td>bengaluru</td>\n",
       "      <td>3-7 yrs</td>\n",
       "      <td>supply chain management\\nlinux\\nrf\\nrdbms\\nbfs...</td>\n",
       "      <td>not disclosed</td>\n",
       "      <td>experience of working on end-to-end data scien...</td>\n",
       "    </tr>\n",
       "    <tr>\n",
       "      <th>3</th>\n",
       "      <td>3</td>\n",
       "      <td>analytics designer - machine learning, big dat...</td>\n",
       "      <td>tata consultancy services ltd.</td>\n",
       "      <td>chennai, pune, delhi ncr, mumbai, bengaluru, h...</td>\n",
       "      <td>5-10 yrs</td>\n",
       "      <td>it skills\\njava\\npython\\nmachine learning\\nclo...</td>\n",
       "      <td>not disclosed</td>\n",
       "      <td>job title :analytics designer - machine learni...</td>\n",
       "    </tr>\n",
       "    <tr>\n",
       "      <th>4</th>\n",
       "      <td>4</td>\n",
       "      <td>artificial intelligence expert - data scientis...</td>\n",
       "      <td>new era india</td>\n",
       "      <td>united states</td>\n",
       "      <td>11-15 yrs</td>\n",
       "      <td>it skills\\nmachine learning\\nspeech recognitio...</td>\n",
       "      <td>not disclosed</td>\n",
       "      <td>jd: a) machine learning b) computer vision: c)...</td>\n",
       "    </tr>\n",
       "  </tbody>\n",
       "</table>\n",
       "</div>"
      ],
      "text/plain": [
       "  Unnamed: 0                                              roles  \\\n",
       "0          0  artificial intelligence/machine learning/data ...   \n",
       "1          1                          machine learning engineer   \n",
       "2          2                   data scientist, machine learning   \n",
       "3          3  analytics designer - machine learning, big dat...   \n",
       "4          4  artificial intelligence expert - data scientis...   \n",
       "\n",
       "                             companies  \\\n",
       "0  spectrum consultants india pvt ltd.   \n",
       "1          alstom transport india ltd.   \n",
       "2                fractal analytics ltd   \n",
       "3       tata consultancy services ltd.   \n",
       "4                        new era india   \n",
       "\n",
       "                                           locations experience  \\\n",
       "0                                          bengaluru   8-13 yrs   \n",
       "1                                          bengaluru    2-7 yrs   \n",
       "2                                          bengaluru    3-7 yrs   \n",
       "3  chennai, pune, delhi ncr, mumbai, bengaluru, h...   5-10 yrs   \n",
       "4                                      united states  11-15 yrs   \n",
       "\n",
       "                                              skills         salary  \\\n",
       "0  computer science\\nelectrical engineering\\ndeep...  not disclosed   \n",
       "1  nlp\\nartificial intelligence\\nneural networks\\...  not disclosed   \n",
       "2  supply chain management\\nlinux\\nrf\\nrdbms\\nbfs...  not disclosed   \n",
       "3  it skills\\njava\\npython\\nmachine learning\\nclo...  not disclosed   \n",
       "4  it skills\\nmachine learning\\nspeech recognitio...  not disclosed   \n",
       "\n",
       "                                            job_desc  \n",
       "0  master s or phd in computer science, electrica...  \n",
       "1  understanding and experience with leading supe...  \n",
       "2  experience of working on end-to-end data scien...  \n",
       "3  job title :analytics designer - machine learni...  \n",
       "4  jd: a) machine learning b) computer vision: c)...  "
      ]
     },
     "execution_count": 4,
     "metadata": {},
     "output_type": "execute_result"
    }
   ],
   "source": [
    "# lower case all the strings to avoid redundancy\n",
    "data=data.apply(lambda x: x.astype(str).str.lower())\n",
    "data.head()"
   ]
  },
  {
   "cell_type": "code",
   "execution_count": 5,
   "metadata": {},
   "outputs": [],
   "source": [
    "mask = 'none'"
   ]
  },
  {
   "cell_type": "code",
   "execution_count": 6,
   "metadata": {},
   "outputs": [
    {
     "data": {
      "text/plain": [
       "48"
      ]
     },
     "execution_count": 6,
     "metadata": {},
     "output_type": "execute_result"
    }
   ],
   "source": [
    "experience_none = data.experience == mask\n",
    "experience_none.sum()"
   ]
  },
  {
   "cell_type": "code",
   "execution_count": 7,
   "metadata": {},
   "outputs": [
    {
     "data": {
      "text/html": [
       "<div>\n",
       "<style scoped>\n",
       "    .dataframe tbody tr th:only-of-type {\n",
       "        vertical-align: middle;\n",
       "    }\n",
       "\n",
       "    .dataframe tbody tr th {\n",
       "        vertical-align: top;\n",
       "    }\n",
       "\n",
       "    .dataframe thead th {\n",
       "        text-align: right;\n",
       "    }\n",
       "</style>\n",
       "<table border=\"1\" class=\"dataframe\">\n",
       "  <thead>\n",
       "    <tr style=\"text-align: right;\">\n",
       "      <th></th>\n",
       "      <th>Unnamed: 0</th>\n",
       "      <th>roles</th>\n",
       "      <th>companies</th>\n",
       "      <th>locations</th>\n",
       "      <th>experience</th>\n",
       "      <th>skills</th>\n",
       "      <th>salary</th>\n",
       "      <th>job_desc</th>\n",
       "    </tr>\n",
       "  </thead>\n",
       "  <tbody>\n",
       "    <tr>\n",
       "      <th>382</th>\n",
       "      <td>382</td>\n",
       "      <td>professor - machine learning / artificial inte...</td>\n",
       "      <td>indian institute of science education and rese...</td>\n",
       "      <td>kolkata</td>\n",
       "      <td>none</td>\n",
       "      <td>none</td>\n",
       "      <td>not disclosed</td>\n",
       "      <td>minimum 10 years of teaching / research/indust...</td>\n",
       "    </tr>\n",
       "    <tr>\n",
       "      <th>389</th>\n",
       "      <td>389</td>\n",
       "      <td>associate professor - machine learning and art...</td>\n",
       "      <td>indian institute of technology delhi</td>\n",
       "      <td>delhi</td>\n",
       "      <td>none</td>\n",
       "      <td>none</td>\n",
       "      <td>not disclosed</td>\n",
       "      <td>the website also contains useful information o...</td>\n",
       "    </tr>\n",
       "    <tr>\n",
       "      <th>390</th>\n",
       "      <td>390</td>\n",
       "      <td>professor - machine learning and artificial in...</td>\n",
       "      <td>indian institute of technology delhi</td>\n",
       "      <td>delhi</td>\n",
       "      <td>none</td>\n",
       "      <td>none</td>\n",
       "      <td>not disclosed</td>\n",
       "      <td>the website also contains useful information o...</td>\n",
       "    </tr>\n",
       "    <tr>\n",
       "      <th>391</th>\n",
       "      <td>391</td>\n",
       "      <td>associate professor - machine learning / artif...</td>\n",
       "      <td>indian institute of science education and rese...</td>\n",
       "      <td>kolkata</td>\n",
       "      <td>none</td>\n",
       "      <td>none</td>\n",
       "      <td>not disclosed</td>\n",
       "      <td>minimum 6 years of teaching / research/industr...</td>\n",
       "    </tr>\n",
       "    <tr>\n",
       "      <th>392</th>\n",
       "      <td>392</td>\n",
       "      <td>post doctoral fellows - machine learning and a...</td>\n",
       "      <td>indian institute of technology delhi</td>\n",
       "      <td>delhi</td>\n",
       "      <td>none</td>\n",
       "      <td>none</td>\n",
       "      <td>not disclosed</td>\n",
       "      <td>maximum age is 32 years for male and 35 years ...</td>\n",
       "    </tr>\n",
       "  </tbody>\n",
       "</table>\n",
       "</div>"
      ],
      "text/plain": [
       "    Unnamed: 0                                              roles  \\\n",
       "382        382  professor - machine learning / artificial inte...   \n",
       "389        389  associate professor - machine learning and art...   \n",
       "390        390  professor - machine learning and artificial in...   \n",
       "391        391  associate professor - machine learning / artif...   \n",
       "392        392  post doctoral fellows - machine learning and a...   \n",
       "\n",
       "                                             companies locations experience  \\\n",
       "382  indian institute of science education and rese...   kolkata       none   \n",
       "389               indian institute of technology delhi     delhi       none   \n",
       "390               indian institute of technology delhi     delhi       none   \n",
       "391  indian institute of science education and rese...   kolkata       none   \n",
       "392               indian institute of technology delhi     delhi       none   \n",
       "\n",
       "    skills         salary                                           job_desc  \n",
       "382   none  not disclosed  minimum 10 years of teaching / research/indust...  \n",
       "389   none  not disclosed  the website also contains useful information o...  \n",
       "390   none  not disclosed  the website also contains useful information o...  \n",
       "391   none  not disclosed  minimum 6 years of teaching / research/industr...  \n",
       "392   none  not disclosed  maximum age is 32 years for male and 35 years ...  "
      ]
     },
     "execution_count": 7,
     "metadata": {},
     "output_type": "execute_result"
    }
   ],
   "source": [
    "data_none = data[(data['experience'] == mask)]\n",
    "data_none.head(5)"
   ]
  },
  {
   "cell_type": "code",
   "execution_count": 8,
   "metadata": {},
   "outputs": [
    {
     "data": {
      "text/plain": [
       "Int64Index([ 382,  389,  390,  391,  392,  400,  401,  402,  403,  404,  407,\n",
       "             412,  413,  414,  415,  416,  417,  418, 1107, 3489, 4255, 4256,\n",
       "            4405, 4406, 4426, 4433, 4434, 4439, 4440, 4616, 4629, 4933, 4934,\n",
       "            4935, 4936, 4947, 4953, 4954, 4955, 4956, 5219, 5220, 5221, 5230,\n",
       "            5483, 5484, 5493, 5927],\n",
       "           dtype='int64')"
      ]
     },
     "execution_count": 8,
     "metadata": {},
     "output_type": "execute_result"
    }
   ],
   "source": [
    "i = data[((data.experience == 'none'))].index\n",
    "i"
   ]
  },
  {
   "cell_type": "code",
   "execution_count": 9,
   "metadata": {},
   "outputs": [],
   "source": [
    "data = data.drop(i).reset_index(drop=True) #Re-indexing"
   ]
  },
  {
   "cell_type": "code",
   "execution_count": 10,
   "metadata": {},
   "outputs": [
    {
     "name": "stdout",
     "output_type": "stream",
     "text": [
      "(5342, 8)\n"
     ]
    },
    {
     "data": {
      "text/html": [
       "<div>\n",
       "<style scoped>\n",
       "    .dataframe tbody tr th:only-of-type {\n",
       "        vertical-align: middle;\n",
       "    }\n",
       "\n",
       "    .dataframe tbody tr th {\n",
       "        vertical-align: top;\n",
       "    }\n",
       "\n",
       "    .dataframe thead th {\n",
       "        text-align: right;\n",
       "    }\n",
       "</style>\n",
       "<table border=\"1\" class=\"dataframe\">\n",
       "  <thead>\n",
       "    <tr style=\"text-align: right;\">\n",
       "      <th></th>\n",
       "      <th>Unnamed: 0</th>\n",
       "      <th>roles</th>\n",
       "      <th>companies</th>\n",
       "      <th>locations</th>\n",
       "      <th>experience</th>\n",
       "      <th>skills</th>\n",
       "      <th>salary</th>\n",
       "      <th>job_desc</th>\n",
       "    </tr>\n",
       "  </thead>\n",
       "  <tbody>\n",
       "    <tr>\n",
       "      <th>0</th>\n",
       "      <td>0</td>\n",
       "      <td>artificial intelligence/machine learning/data ...</td>\n",
       "      <td>spectrum consultants india pvt ltd.</td>\n",
       "      <td>bengaluru</td>\n",
       "      <td>8-13 yrs</td>\n",
       "      <td>computer science\\nelectrical engineering\\ndeep...</td>\n",
       "      <td>not disclosed</td>\n",
       "      <td>master s or phd in computer science, electrica...</td>\n",
       "    </tr>\n",
       "    <tr>\n",
       "      <th>1</th>\n",
       "      <td>1</td>\n",
       "      <td>machine learning engineer</td>\n",
       "      <td>alstom transport india ltd.</td>\n",
       "      <td>bengaluru</td>\n",
       "      <td>2-7 yrs</td>\n",
       "      <td>nlp\\nartificial intelligence\\nneural networks\\...</td>\n",
       "      <td>not disclosed</td>\n",
       "      <td>understanding and experience with leading supe...</td>\n",
       "    </tr>\n",
       "    <tr>\n",
       "      <th>2</th>\n",
       "      <td>2</td>\n",
       "      <td>data scientist, machine learning</td>\n",
       "      <td>fractal analytics ltd</td>\n",
       "      <td>bengaluru</td>\n",
       "      <td>3-7 yrs</td>\n",
       "      <td>supply chain management\\nlinux\\nrf\\nrdbms\\nbfs...</td>\n",
       "      <td>not disclosed</td>\n",
       "      <td>experience of working on end-to-end data scien...</td>\n",
       "    </tr>\n",
       "  </tbody>\n",
       "</table>\n",
       "</div>"
      ],
      "text/plain": [
       "  Unnamed: 0                                              roles  \\\n",
       "0          0  artificial intelligence/machine learning/data ...   \n",
       "1          1                          machine learning engineer   \n",
       "2          2                   data scientist, machine learning   \n",
       "\n",
       "                             companies  locations experience  \\\n",
       "0  spectrum consultants india pvt ltd.  bengaluru   8-13 yrs   \n",
       "1          alstom transport india ltd.  bengaluru    2-7 yrs   \n",
       "2                fractal analytics ltd  bengaluru    3-7 yrs   \n",
       "\n",
       "                                              skills         salary  \\\n",
       "0  computer science\\nelectrical engineering\\ndeep...  not disclosed   \n",
       "1  nlp\\nartificial intelligence\\nneural networks\\...  not disclosed   \n",
       "2  supply chain management\\nlinux\\nrf\\nrdbms\\nbfs...  not disclosed   \n",
       "\n",
       "                                            job_desc  \n",
       "0  master s or phd in computer science, electrica...  \n",
       "1  understanding and experience with leading supe...  \n",
       "2  experience of working on end-to-end data scien...  "
      ]
     },
     "execution_count": 10,
     "metadata": {},
     "output_type": "execute_result"
    }
   ],
   "source": [
    "sal_not_disclosed = data[(data['salary'] == 'not disclosed')]\n",
    "print(sal_not_disclosed.shape)\n",
    "sal_not_disclosed.head(3)"
   ]
  },
  {
   "cell_type": "code",
   "execution_count": 11,
   "metadata": {},
   "outputs": [
    {
     "data": {
      "text/html": [
       "<div>\n",
       "<style scoped>\n",
       "    .dataframe tbody tr th:only-of-type {\n",
       "        vertical-align: middle;\n",
       "    }\n",
       "\n",
       "    .dataframe tbody tr th {\n",
       "        vertical-align: top;\n",
       "    }\n",
       "\n",
       "    .dataframe thead th {\n",
       "        text-align: right;\n",
       "    }\n",
       "</style>\n",
       "<table border=\"1\" class=\"dataframe\">\n",
       "  <thead>\n",
       "    <tr style=\"text-align: right;\">\n",
       "      <th></th>\n",
       "      <th>Unnamed: 0</th>\n",
       "      <th>roles</th>\n",
       "      <th>companies</th>\n",
       "      <th>locations</th>\n",
       "      <th>experience</th>\n",
       "      <th>skills</th>\n",
       "      <th>salary</th>\n",
       "      <th>job_desc</th>\n",
       "    </tr>\n",
       "  </thead>\n",
       "  <tbody>\n",
       "    <tr>\n",
       "      <th>15</th>\n",
       "      <td>15</td>\n",
       "      <td>data scientist/analyst - machine learning/deep...</td>\n",
       "      <td>echoindia</td>\n",
       "      <td>delhi</td>\n",
       "      <td>3-6 yrs</td>\n",
       "      <td>it skills\\npython\\nmachine learning\\ntableau\\n...</td>\n",
       "      <td>not disclosed</td>\n",
       "      <td>- strong experience in statistical models and ...</td>\n",
       "    </tr>\n",
       "    <tr>\n",
       "      <th>16</th>\n",
       "      <td>16</td>\n",
       "      <td>machine learning engineer</td>\n",
       "      <td>brightleaf solutions</td>\n",
       "      <td>pune, chandigarh</td>\n",
       "      <td>0-4 yrs</td>\n",
       "      <td>it skills\\npython\\ncloud\\ndevops\\naws\\ngithub\\...</td>\n",
       "      <td>not disclosed</td>\n",
       "      <td>the ideal candidate must be a keen problem sol...</td>\n",
       "    </tr>\n",
       "    <tr>\n",
       "      <th>17</th>\n",
       "      <td>17</td>\n",
       "      <td>data scientist - machine learning/artificial i...</td>\n",
       "      <td>talent acceleration corridor</td>\n",
       "      <td>delhi ncr, noida</td>\n",
       "      <td>6-11 yrs</td>\n",
       "      <td>it skills\\npython\\nsoftware development\\ntesti...</td>\n",
       "      <td>not disclosed</td>\n",
       "      <td>you should be a be / b tech or mba from a repu...</td>\n",
       "    </tr>\n",
       "    <tr>\n",
       "      <th>18</th>\n",
       "      <td>18</td>\n",
       "      <td>senior artificial intelligence/ machine learni...</td>\n",
       "      <td>serving skill</td>\n",
       "      <td>trivandrum, bengaluru, thiruvananthapuram</td>\n",
       "      <td>5-8 yrs</td>\n",
       "      <td>it skills\\npython\\nmachine learning\\nartificia...</td>\n",
       "      <td>not disclosed</td>\n",
       "      <td>education : btech / mtech/ masters / phdqualif...</td>\n",
       "    </tr>\n",
       "    <tr>\n",
       "      <th>19</th>\n",
       "      <td>19</td>\n",
       "      <td>staff artificial intelligence/ machine learnin...</td>\n",
       "      <td>serving skill</td>\n",
       "      <td>trivandrum, bengaluru, thiruvananthapuram</td>\n",
       "      <td>3-6 yrs</td>\n",
       "      <td>it skills\\npython\\nmachine learning\\nproject m...</td>\n",
       "      <td>not disclosed</td>\n",
       "      <td>education: btech / mtech/mastersqualifications...</td>\n",
       "    </tr>\n",
       "  </tbody>\n",
       "</table>\n",
       "</div>"
      ],
      "text/plain": [
       "   Unnamed: 0                                              roles  \\\n",
       "15         15  data scientist/analyst - machine learning/deep...   \n",
       "16         16                          machine learning engineer   \n",
       "17         17  data scientist - machine learning/artificial i...   \n",
       "18         18  senior artificial intelligence/ machine learni...   \n",
       "19         19  staff artificial intelligence/ machine learnin...   \n",
       "\n",
       "                       companies                                  locations  \\\n",
       "15                     echoindia                                      delhi   \n",
       "16          brightleaf solutions                           pune, chandigarh   \n",
       "17  talent acceleration corridor                           delhi ncr, noida   \n",
       "18                 serving skill  trivandrum, bengaluru, thiruvananthapuram   \n",
       "19                 serving skill  trivandrum, bengaluru, thiruvananthapuram   \n",
       "\n",
       "   experience                                             skills  \\\n",
       "15    3-6 yrs  it skills\\npython\\nmachine learning\\ntableau\\n...   \n",
       "16    0-4 yrs  it skills\\npython\\ncloud\\ndevops\\naws\\ngithub\\...   \n",
       "17   6-11 yrs  it skills\\npython\\nsoftware development\\ntesti...   \n",
       "18    5-8 yrs  it skills\\npython\\nmachine learning\\nartificia...   \n",
       "19    3-6 yrs  it skills\\npython\\nmachine learning\\nproject m...   \n",
       "\n",
       "           salary                                           job_desc  \n",
       "15  not disclosed  - strong experience in statistical models and ...  \n",
       "16  not disclosed  the ideal candidate must be a keen problem sol...  \n",
       "17  not disclosed  you should be a be / b tech or mba from a repu...  \n",
       "18  not disclosed  education : btech / mtech/ masters / phdqualif...  \n",
       "19  not disclosed  education: btech / mtech/mastersqualifications...  "
      ]
     },
     "execution_count": 11,
     "metadata": {},
     "output_type": "execute_result"
    }
   ],
   "source": [
    "data[15:20]"
   ]
  },
  {
   "cell_type": "code",
   "execution_count": 12,
   "metadata": {},
   "outputs": [
    {
     "data": {
      "text/html": [
       "<div>\n",
       "<style scoped>\n",
       "    .dataframe tbody tr th:only-of-type {\n",
       "        vertical-align: middle;\n",
       "    }\n",
       "\n",
       "    .dataframe tbody tr th {\n",
       "        vertical-align: top;\n",
       "    }\n",
       "\n",
       "    .dataframe thead th {\n",
       "        text-align: right;\n",
       "    }\n",
       "</style>\n",
       "<table border=\"1\" class=\"dataframe\">\n",
       "  <thead>\n",
       "    <tr style=\"text-align: right;\">\n",
       "      <th></th>\n",
       "      <th>Unnamed: 0</th>\n",
       "      <th>roles</th>\n",
       "      <th>companies</th>\n",
       "      <th>locations</th>\n",
       "      <th>experience</th>\n",
       "      <th>skills</th>\n",
       "      <th>salary</th>\n",
       "      <th>job_desc</th>\n",
       "    </tr>\n",
       "  </thead>\n",
       "  <tbody>\n",
       "    <tr>\n",
       "      <th>15</th>\n",
       "      <td>15</td>\n",
       "      <td>data scientist/analyst - machine learning/deep...</td>\n",
       "      <td>echoindia</td>\n",
       "      <td>delhi</td>\n",
       "      <td>3-6 yrs</td>\n",
       "      <td>[it skills, python, machine learning, tableau,...</td>\n",
       "      <td>not disclosed</td>\n",
       "      <td>- strong experience in statistical models and ...</td>\n",
       "    </tr>\n",
       "    <tr>\n",
       "      <th>16</th>\n",
       "      <td>16</td>\n",
       "      <td>machine learning engineer</td>\n",
       "      <td>brightleaf solutions</td>\n",
       "      <td>pune, chandigarh</td>\n",
       "      <td>0-4 yrs</td>\n",
       "      <td>[it skills, python, cloud, devops, aws, github...</td>\n",
       "      <td>not disclosed</td>\n",
       "      <td>the ideal candidate must be a keen problem sol...</td>\n",
       "    </tr>\n",
       "    <tr>\n",
       "      <th>17</th>\n",
       "      <td>17</td>\n",
       "      <td>data scientist - machine learning/artificial i...</td>\n",
       "      <td>talent acceleration corridor</td>\n",
       "      <td>delhi ncr, noida</td>\n",
       "      <td>6-11 yrs</td>\n",
       "      <td>[it skills, python, software development, test...</td>\n",
       "      <td>not disclosed</td>\n",
       "      <td>you should be a be / b tech or mba from a repu...</td>\n",
       "    </tr>\n",
       "    <tr>\n",
       "      <th>18</th>\n",
       "      <td>18</td>\n",
       "      <td>senior artificial intelligence/ machine learni...</td>\n",
       "      <td>serving skill</td>\n",
       "      <td>trivandrum, bengaluru, thiruvananthapuram</td>\n",
       "      <td>5-8 yrs</td>\n",
       "      <td>[it skills, python, machine learning, artifici...</td>\n",
       "      <td>not disclosed</td>\n",
       "      <td>education : btech / mtech/ masters / phdqualif...</td>\n",
       "    </tr>\n",
       "    <tr>\n",
       "      <th>19</th>\n",
       "      <td>19</td>\n",
       "      <td>staff artificial intelligence/ machine learnin...</td>\n",
       "      <td>serving skill</td>\n",
       "      <td>trivandrum, bengaluru, thiruvananthapuram</td>\n",
       "      <td>3-6 yrs</td>\n",
       "      <td>[it skills, python, machine learning, project ...</td>\n",
       "      <td>not disclosed</td>\n",
       "      <td>education: btech / mtech/mastersqualifications...</td>\n",
       "    </tr>\n",
       "  </tbody>\n",
       "</table>\n",
       "</div>"
      ],
      "text/plain": [
       "   Unnamed: 0                                              roles  \\\n",
       "15         15  data scientist/analyst - machine learning/deep...   \n",
       "16         16                          machine learning engineer   \n",
       "17         17  data scientist - machine learning/artificial i...   \n",
       "18         18  senior artificial intelligence/ machine learni...   \n",
       "19         19  staff artificial intelligence/ machine learnin...   \n",
       "\n",
       "                       companies                                  locations  \\\n",
       "15                     echoindia                                      delhi   \n",
       "16          brightleaf solutions                           pune, chandigarh   \n",
       "17  talent acceleration corridor                           delhi ncr, noida   \n",
       "18                 serving skill  trivandrum, bengaluru, thiruvananthapuram   \n",
       "19                 serving skill  trivandrum, bengaluru, thiruvananthapuram   \n",
       "\n",
       "   experience                                             skills  \\\n",
       "15    3-6 yrs  [it skills, python, machine learning, tableau,...   \n",
       "16    0-4 yrs  [it skills, python, cloud, devops, aws, github...   \n",
       "17   6-11 yrs  [it skills, python, software development, test...   \n",
       "18    5-8 yrs  [it skills, python, machine learning, artifici...   \n",
       "19    3-6 yrs  [it skills, python, machine learning, project ...   \n",
       "\n",
       "           salary                                           job_desc  \n",
       "15  not disclosed  - strong experience in statistical models and ...  \n",
       "16  not disclosed  the ideal candidate must be a keen problem sol...  \n",
       "17  not disclosed  you should be a be / b tech or mba from a repu...  \n",
       "18  not disclosed  education : btech / mtech/ masters / phdqualif...  \n",
       "19  not disclosed  education: btech / mtech/mastersqualifications...  "
      ]
     },
     "execution_count": 12,
     "metadata": {},
     "output_type": "execute_result"
    }
   ],
   "source": [
    "# there are more than one loaction and skills are attached to each job, let split the location and skill\n",
    "data.skills=[skill.split(\"\\n\") for skill in data.skills]\n",
    "#data.locations=[location.split(\",\") for location in data.locations]\n",
    "data[15:20]"
   ]
  },
  {
   "cell_type": "code",
   "execution_count": 13,
   "metadata": {},
   "outputs": [],
   "source": [
    "data[\"clean_exp\"] = \"\" #Creating an empty column"
   ]
  },
  {
   "cell_type": "code",
   "execution_count": 14,
   "metadata": {},
   "outputs": [
    {
     "data": {
      "text/html": [
       "<div>\n",
       "<style scoped>\n",
       "    .dataframe tbody tr th:only-of-type {\n",
       "        vertical-align: middle;\n",
       "    }\n",
       "\n",
       "    .dataframe tbody tr th {\n",
       "        vertical-align: top;\n",
       "    }\n",
       "\n",
       "    .dataframe thead th {\n",
       "        text-align: right;\n",
       "    }\n",
       "</style>\n",
       "<table border=\"1\" class=\"dataframe\">\n",
       "  <thead>\n",
       "    <tr style=\"text-align: right;\">\n",
       "      <th></th>\n",
       "      <th>Unnamed: 0</th>\n",
       "      <th>roles</th>\n",
       "      <th>companies</th>\n",
       "      <th>locations</th>\n",
       "      <th>experience</th>\n",
       "      <th>skills</th>\n",
       "      <th>salary</th>\n",
       "      <th>job_desc</th>\n",
       "      <th>clean_exp</th>\n",
       "    </tr>\n",
       "  </thead>\n",
       "  <tbody>\n",
       "    <tr>\n",
       "      <th>15</th>\n",
       "      <td>15</td>\n",
       "      <td>data scientist/analyst - machine learning/deep...</td>\n",
       "      <td>echoindia</td>\n",
       "      <td>delhi</td>\n",
       "      <td>3-6 yrs</td>\n",
       "      <td>[it skills, python, machine learning, tableau,...</td>\n",
       "      <td>not disclosed</td>\n",
       "      <td>- strong experience in statistical models and ...</td>\n",
       "      <td>[3, 6 ]</td>\n",
       "    </tr>\n",
       "    <tr>\n",
       "      <th>16</th>\n",
       "      <td>16</td>\n",
       "      <td>machine learning engineer</td>\n",
       "      <td>brightleaf solutions</td>\n",
       "      <td>pune, chandigarh</td>\n",
       "      <td>0-4 yrs</td>\n",
       "      <td>[it skills, python, cloud, devops, aws, github...</td>\n",
       "      <td>not disclosed</td>\n",
       "      <td>the ideal candidate must be a keen problem sol...</td>\n",
       "      <td>[0, 4 ]</td>\n",
       "    </tr>\n",
       "    <tr>\n",
       "      <th>17</th>\n",
       "      <td>17</td>\n",
       "      <td>data scientist - machine learning/artificial i...</td>\n",
       "      <td>talent acceleration corridor</td>\n",
       "      <td>delhi ncr, noida</td>\n",
       "      <td>6-11 yrs</td>\n",
       "      <td>[it skills, python, software development, test...</td>\n",
       "      <td>not disclosed</td>\n",
       "      <td>you should be a be / b tech or mba from a repu...</td>\n",
       "      <td>[6, 11 ]</td>\n",
       "    </tr>\n",
       "    <tr>\n",
       "      <th>18</th>\n",
       "      <td>18</td>\n",
       "      <td>senior artificial intelligence/ machine learni...</td>\n",
       "      <td>serving skill</td>\n",
       "      <td>trivandrum, bengaluru, thiruvananthapuram</td>\n",
       "      <td>5-8 yrs</td>\n",
       "      <td>[it skills, python, machine learning, artifici...</td>\n",
       "      <td>not disclosed</td>\n",
       "      <td>education : btech / mtech/ masters / phdqualif...</td>\n",
       "      <td>[5, 8 ]</td>\n",
       "    </tr>\n",
       "    <tr>\n",
       "      <th>19</th>\n",
       "      <td>19</td>\n",
       "      <td>staff artificial intelligence/ machine learnin...</td>\n",
       "      <td>serving skill</td>\n",
       "      <td>trivandrum, bengaluru, thiruvananthapuram</td>\n",
       "      <td>3-6 yrs</td>\n",
       "      <td>[it skills, python, machine learning, project ...</td>\n",
       "      <td>not disclosed</td>\n",
       "      <td>education: btech / mtech/mastersqualifications...</td>\n",
       "      <td>[3, 6 ]</td>\n",
       "    </tr>\n",
       "  </tbody>\n",
       "</table>\n",
       "</div>"
      ],
      "text/plain": [
       "   Unnamed: 0                                              roles  \\\n",
       "15         15  data scientist/analyst - machine learning/deep...   \n",
       "16         16                          machine learning engineer   \n",
       "17         17  data scientist - machine learning/artificial i...   \n",
       "18         18  senior artificial intelligence/ machine learni...   \n",
       "19         19  staff artificial intelligence/ machine learnin...   \n",
       "\n",
       "                       companies                                  locations  \\\n",
       "15                     echoindia                                      delhi   \n",
       "16          brightleaf solutions                           pune, chandigarh   \n",
       "17  talent acceleration corridor                           delhi ncr, noida   \n",
       "18                 serving skill  trivandrum, bengaluru, thiruvananthapuram   \n",
       "19                 serving skill  trivandrum, bengaluru, thiruvananthapuram   \n",
       "\n",
       "   experience                                             skills  \\\n",
       "15    3-6 yrs  [it skills, python, machine learning, tableau,...   \n",
       "16    0-4 yrs  [it skills, python, cloud, devops, aws, github...   \n",
       "17   6-11 yrs  [it skills, python, software development, test...   \n",
       "18    5-8 yrs  [it skills, python, machine learning, artifici...   \n",
       "19    3-6 yrs  [it skills, python, machine learning, project ...   \n",
       "\n",
       "           salary                                           job_desc clean_exp  \n",
       "15  not disclosed  - strong experience in statistical models and ...   [3, 6 ]  \n",
       "16  not disclosed  the ideal candidate must be a keen problem sol...   [0, 4 ]  \n",
       "17  not disclosed  you should be a be / b tech or mba from a repu...  [6, 11 ]  \n",
       "18  not disclosed  education : btech / mtech/ masters / phdqualif...   [5, 8 ]  \n",
       "19  not disclosed  education: btech / mtech/mastersqualifications...   [3, 6 ]  "
      ]
     },
     "execution_count": 14,
     "metadata": {},
     "output_type": "execute_result"
    }
   ],
   "source": [
    "data.clean_exp = data.experience.str.replace(\"yrs\",\"\")\n",
    "data.clean_exp = [clean_exp.split(\"-\") for clean_exp in data.clean_exp]\n",
    "data[15:20]"
   ]
  },
  {
   "cell_type": "code",
   "execution_count": 225,
   "metadata": {},
   "outputs": [],
   "source": [
    "#data.to_csv('C:/Users/hp/Desktop/web scrape/added_clean.csv',index=True)"
   ]
  },
  {
   "cell_type": "markdown",
   "metadata": {},
   "source": [
    "<b>Now, we will count the frequency of the occurence of each of the list item.</b>"
   ]
  },
  {
   "cell_type": "code",
   "execution_count": 15,
   "metadata": {},
   "outputs": [],
   "source": [
    "data[\"freq_exp\"] = \"\""
   ]
  },
  {
   "cell_type": "code",
   "execution_count": 16,
   "metadata": {},
   "outputs": [],
   "source": [
    "data['freq_exp'] = data.groupby('experience')['experience'].transform('count')"
   ]
  },
  {
   "cell_type": "code",
   "execution_count": 17,
   "metadata": {},
   "outputs": [
    {
     "data": {
      "text/html": [
       "<div>\n",
       "<style scoped>\n",
       "    .dataframe tbody tr th:only-of-type {\n",
       "        vertical-align: middle;\n",
       "    }\n",
       "\n",
       "    .dataframe tbody tr th {\n",
       "        vertical-align: top;\n",
       "    }\n",
       "\n",
       "    .dataframe thead th {\n",
       "        text-align: right;\n",
       "    }\n",
       "</style>\n",
       "<table border=\"1\" class=\"dataframe\">\n",
       "  <thead>\n",
       "    <tr style=\"text-align: right;\">\n",
       "      <th></th>\n",
       "      <th>Unnamed: 0</th>\n",
       "      <th>roles</th>\n",
       "      <th>companies</th>\n",
       "      <th>locations</th>\n",
       "      <th>experience</th>\n",
       "      <th>skills</th>\n",
       "      <th>salary</th>\n",
       "      <th>job_desc</th>\n",
       "      <th>clean_exp</th>\n",
       "      <th>freq_exp</th>\n",
       "    </tr>\n",
       "  </thead>\n",
       "  <tbody>\n",
       "    <tr>\n",
       "      <th>0</th>\n",
       "      <td>0</td>\n",
       "      <td>artificial intelligence/machine learning/data ...</td>\n",
       "      <td>spectrum consultants india pvt ltd.</td>\n",
       "      <td>bengaluru</td>\n",
       "      <td>8-13 yrs</td>\n",
       "      <td>[computer science, electrical engineering, dee...</td>\n",
       "      <td>not disclosed</td>\n",
       "      <td>master s or phd in computer science, electrica...</td>\n",
       "      <td>[8, 13 ]</td>\n",
       "      <td>146</td>\n",
       "    </tr>\n",
       "    <tr>\n",
       "      <th>1</th>\n",
       "      <td>1</td>\n",
       "      <td>machine learning engineer</td>\n",
       "      <td>alstom transport india ltd.</td>\n",
       "      <td>bengaluru</td>\n",
       "      <td>2-7 yrs</td>\n",
       "      <td>[nlp, artificial intelligence, neural networks...</td>\n",
       "      <td>not disclosed</td>\n",
       "      <td>understanding and experience with leading supe...</td>\n",
       "      <td>[2, 7 ]</td>\n",
       "      <td>249</td>\n",
       "    </tr>\n",
       "    <tr>\n",
       "      <th>2</th>\n",
       "      <td>2</td>\n",
       "      <td>data scientist, machine learning</td>\n",
       "      <td>fractal analytics ltd</td>\n",
       "      <td>bengaluru</td>\n",
       "      <td>3-7 yrs</td>\n",
       "      <td>[supply chain management, linux, rf, rdbms, bf...</td>\n",
       "      <td>not disclosed</td>\n",
       "      <td>experience of working on end-to-end data scien...</td>\n",
       "      <td>[3, 7 ]</td>\n",
       "      <td>174</td>\n",
       "    </tr>\n",
       "  </tbody>\n",
       "</table>\n",
       "</div>"
      ],
      "text/plain": [
       "  Unnamed: 0                                              roles  \\\n",
       "0          0  artificial intelligence/machine learning/data ...   \n",
       "1          1                          machine learning engineer   \n",
       "2          2                   data scientist, machine learning   \n",
       "\n",
       "                             companies  locations experience  \\\n",
       "0  spectrum consultants india pvt ltd.  bengaluru   8-13 yrs   \n",
       "1          alstom transport india ltd.  bengaluru    2-7 yrs   \n",
       "2                fractal analytics ltd  bengaluru    3-7 yrs   \n",
       "\n",
       "                                              skills         salary  \\\n",
       "0  [computer science, electrical engineering, dee...  not disclosed   \n",
       "1  [nlp, artificial intelligence, neural networks...  not disclosed   \n",
       "2  [supply chain management, linux, rf, rdbms, bf...  not disclosed   \n",
       "\n",
       "                                            job_desc clean_exp  freq_exp  \n",
       "0  master s or phd in computer science, electrica...  [8, 13 ]       146  \n",
       "1  understanding and experience with leading supe...   [2, 7 ]       249  \n",
       "2  experience of working on end-to-end data scien...   [3, 7 ]       174  "
      ]
     },
     "execution_count": 17,
     "metadata": {},
     "output_type": "execute_result"
    }
   ],
   "source": [
    "data.head(3)"
   ]
  },
  {
   "cell_type": "code",
   "execution_count": 18,
   "metadata": {},
   "outputs": [
    {
     "data": {
      "text/plain": [
       "(5951, 10)"
      ]
     },
     "execution_count": 18,
     "metadata": {},
     "output_type": "execute_result"
    }
   ],
   "source": [
    "data.shape"
   ]
  },
  {
   "cell_type": "markdown",
   "metadata": {},
   "source": [
    "### We have exp_list_cleaned and also we have frequency. Now we will take averages."
   ]
  },
  {
   "cell_type": "markdown",
   "metadata": {},
   "source": [
    "What I next do is take the average of all the experience and then group them into 0-2, 2-5, 5-8, 8-13 an >13."
   ]
  },
  {
   "cell_type": "code",
   "execution_count": 127,
   "metadata": {},
   "outputs": [],
   "source": [
    "dic_exp = {}"
   ]
  },
  {
   "cell_type": "code",
   "execution_count": 130,
   "metadata": {},
   "outputs": [],
   "source": [
    "z = data.clean_exp"
   ]
  },
  {
   "cell_type": "code",
   "execution_count": 131,
   "metadata": {
    "scrolled": true
   },
   "outputs": [
    {
     "data": {
      "text/plain": [
       "0        [8, 13 ]\n",
       "1         [2, 7 ]\n",
       "2         [3, 7 ]\n",
       "3        [5, 10 ]\n",
       "4       [11, 15 ]\n",
       "          ...    \n",
       "5898      [2, 7 ]\n",
       "5899      [3, 5 ]\n",
       "5900      [3, 5 ]\n",
       "5901      [4, 8 ]\n",
       "5902      [3, 6 ]\n",
       "Name: clean_exp, Length: 5903, dtype: object"
      ]
     },
     "execution_count": 131,
     "metadata": {},
     "output_type": "execute_result"
    }
   ],
   "source": [
    "z"
   ]
  },
  {
   "cell_type": "markdown",
   "metadata": {},
   "source": [
    "Creating a dictionary of experience along with its frequency of occurence"
   ]
  },
  {
   "cell_type": "code",
   "execution_count": 132,
   "metadata": {},
   "outputs": [],
   "source": [
    "for i in range(len(data)):\n",
    "    tup = tuple(z[i])\n",
    "    freq = data['freq_exp'][i]\n",
    "    dic_exp.update({tup:freq})"
   ]
  },
  {
   "cell_type": "code",
   "execution_count": 133,
   "metadata": {},
   "outputs": [
    {
     "name": "stdout",
     "output_type": "stream",
     "text": [
      "123\n",
      "{('8', '13 '): 144, ('2', '7 '): 249, ('3', '7 '): 173, ('5', '10 '): 528, ('11', '15 '): 52, ('5', '8 '): 168, ('3', '8 '): 365, ('2', '6 '): 176, ('4', '8 '): 170, ('5', '7 '): 93, ('0', '0 '): 17, ('3', '6 '): 231, ('0', '4 '): 24, ('6', '11 '): 99, ('2', '5 '): 347, ('0', '5 '): 54, ('8', '12 '): 84, ('4', '9 '): 221, ('3', '5 '): 250, ('1', '3 '): 150, ('5', '9 '): 64, ('2', '4 '): 147, ('14', '18 '): 12, ('15', '18 '): 24, ('4', '7 '): 98, ('4', '6 '): 123, ('1', '2 '): 46, ('6', '9 '): 42, ('1', '6 '): 90, ('6', '10 '): 96, ('9', '14 '): 41, ('6', '8 '): 58, ('9', '11 '): 2, ('0', '2 '): 75, ('0', '3 '): 70, ('8', '10 '): 63, ('10', '12 '): 63, ('1', '4 '): 92, ('0', '1 '): 129, ('10', '15 '): 117, ('7', '12 '): 121, ('0', '6 '): 1, ('1', '5 '): 112, ('3', '4 '): 27, ('6', '7 '): 6, ('7', '11 '): 39, ('10', '14 '): 20, ('2', '3 '): 49, ('10', '17 '): 5, ('4', '5 '): 19, ('7', '10 '): 73, ('10', '20 '): 29, ('12', '15 '): 30, ('7', '8 '): 8, ('5', '6 '): 19, ('20', '26 '): 1, ('10', '18 '): 14, ('15', '24 '): 4, ('10', '13 '): 6, ('7', '9 '): 32, ('12', '16 '): 13, ('14', '20 '): 5, ('13', '18 '): 5, ('15', '22 '): 2, ('4', '16 '): 1, ('8', '11 '): 14, ('13', '23 '): 1, ('12', '20 '): 10, ('13', '16 '): 1, ('9', '12 '): 16, ('2', '10 '): 2, ('2', '8 '): 4, ('3', '9 '): 1, ('15', '20 '): 31, ('11', '16 '): 5, ('5', '11 '): 4, ('0', '8 '): 2, ('14', '16 '): 1, ('20', '30 '): 1, ('9', '13 '): 12, ('1', '7 '): 1, ('16', '20 '): 1, ('12', '17 '): 15, ('10', '19 '): 4, ('14', '23 '): 1, ('17', '25 '): 3, ('0', '10 '): 1, ('13', '17 '): 2, ('13', '20 '): 1, ('12', '22 '): 4, ('12', '18 '): 10, ('10', '16 '): 9, ('18', '25 '): 2, ('6', '12 '): 6, ('8', '14 '): 2, ('15', '17 '): 4, ('18', '20 '): 1, ('8', '9 '): 1, ('2', '2 '): 2, ('3', '10 '): 5, ('14', '19 '): 3, ('8', '15 '): 1, ('6', '15 '): 1, ('11', '20 '): 1, ('20', '25 '): 2, ('0', '9 '): 1, ('15', '16 '): 4, ('17', '23 '): 1, ('15', '25 '): 1, ('21', '26 '): 1, ('16', '23 '): 2, ('22', '27 '): 1, ('5', '12 '): 2, ('18', '24 '): 1, ('8', '18 '): 2, ('12', '14 '): 1, ('25', '30 '): 1, ('14', '17 '): 1, ('17', '27 '): 1, ('13', '15 '): 3, ('16', '22 '): 2, ('14', '24 '): 1, ('15', '15 '): 1}\n"
     ]
    }
   ],
   "source": [
    "print(len(dic_exp))\n",
    "print(dic_exp)"
   ]
  },
  {
   "cell_type": "code",
   "execution_count": 134,
   "metadata": {},
   "outputs": [
    {
     "name": "stdout",
     "output_type": "stream",
     "text": [
      "dict_keys([('8', '13 '), ('2', '7 '), ('3', '7 '), ('5', '10 '), ('11', '15 '), ('5', '8 '), ('3', '8 '), ('2', '6 '), ('4', '8 '), ('5', '7 '), ('0', '0 '), ('3', '6 '), ('0', '4 '), ('6', '11 '), ('2', '5 '), ('0', '5 '), ('8', '12 '), ('4', '9 '), ('3', '5 '), ('1', '3 '), ('5', '9 '), ('2', '4 '), ('14', '18 '), ('15', '18 '), ('4', '7 '), ('4', '6 '), ('1', '2 '), ('6', '9 '), ('1', '6 '), ('6', '10 '), ('9', '14 '), ('6', '8 '), ('9', '11 '), ('0', '2 '), ('0', '3 '), ('8', '10 '), ('10', '12 '), ('1', '4 '), ('0', '1 '), ('10', '15 '), ('7', '12 '), ('0', '6 '), ('1', '5 '), ('3', '4 '), ('6', '7 '), ('7', '11 '), ('10', '14 '), ('2', '3 '), ('10', '17 '), ('4', '5 '), ('7', '10 '), ('10', '20 '), ('12', '15 '), ('7', '8 '), ('5', '6 '), ('20', '26 '), ('10', '18 '), ('15', '24 '), ('10', '13 '), ('7', '9 '), ('12', '16 '), ('14', '20 '), ('13', '18 '), ('15', '22 '), ('4', '16 '), ('8', '11 '), ('13', '23 '), ('12', '20 '), ('13', '16 '), ('9', '12 '), ('2', '10 '), ('2', '8 '), ('3', '9 '), ('15', '20 '), ('11', '16 '), ('5', '11 '), ('0', '8 '), ('14', '16 '), ('20', '30 '), ('9', '13 '), ('1', '7 '), ('16', '20 '), ('12', '17 '), ('10', '19 '), ('14', '23 '), ('17', '25 '), ('0', '10 '), ('13', '17 '), ('13', '20 '), ('12', '22 '), ('12', '18 '), ('10', '16 '), ('18', '25 '), ('6', '12 '), ('8', '14 '), ('15', '17 '), ('18', '20 '), ('8', '9 '), ('2', '2 '), ('3', '10 '), ('14', '19 '), ('8', '15 '), ('6', '15 '), ('11', '20 '), ('20', '25 '), ('0', '9 '), ('15', '16 '), ('17', '23 '), ('15', '25 '), ('21', '26 '), ('16', '23 '), ('22', '27 '), ('5', '12 '), ('18', '24 '), ('8', '18 '), ('12', '14 '), ('25', '30 '), ('14', '17 '), ('17', '27 '), ('13', '15 '), ('16', '22 '), ('14', '24 '), ('15', '15 ')])\n"
     ]
    }
   ],
   "source": [
    "print(dic_exp.keys())\n",
    "list_keys = list(dic_exp.keys())"
   ]
  },
  {
   "cell_type": "code",
   "execution_count": 135,
   "metadata": {
    "scrolled": true
   },
   "outputs": [
    {
     "data": {
      "text/plain": [
       "[144, 249, 173, 528, 52]"
      ]
     },
     "execution_count": 135,
     "metadata": {},
     "output_type": "execute_result"
    }
   ],
   "source": [
    "list_freq = list(dic_exp.values())\n",
    "list_freq[0:5]"
   ]
  },
  {
   "cell_type": "markdown",
   "metadata": {},
   "source": [
    "Taking average of the experience for each key in the dictionary"
   ]
  },
  {
   "cell_type": "code",
   "execution_count": 136,
   "metadata": {},
   "outputs": [
    {
     "data": {
      "text/plain": [
       "123"
      ]
     },
     "execution_count": 136,
     "metadata": {},
     "output_type": "execute_result"
    }
   ],
   "source": [
    "len(list_keys)"
   ]
  },
  {
   "cell_type": "code",
   "execution_count": 137,
   "metadata": {},
   "outputs": [
    {
     "name": "stdout",
     "output_type": "stream",
     "text": [
      "   0    1\n",
      "0  8  13 \n",
      "1  2   7 \n",
      "2  3   7 \n",
      "123\n"
     ]
    }
   ],
   "source": [
    "list_keys_two = pd.DataFrame(list_keys)\n",
    "print(list_keys_two.head(3))\n",
    "print(len(list_keys_two))"
   ]
  },
  {
   "cell_type": "code",
   "execution_count": 138,
   "metadata": {},
   "outputs": [],
   "source": [
    "list_keys_two.to_csv('C:/Users/hp/Desktop/web scrape/list_keys_two.csv',index=True)"
   ]
  },
  {
   "cell_type": "code",
   "execution_count": 139,
   "metadata": {},
   "outputs": [],
   "source": [
    "list_keys_two = pd.read_csv(\"list_keys_two.csv\")"
   ]
  },
  {
   "cell_type": "code",
   "execution_count": 152,
   "metadata": {},
   "outputs": [],
   "source": [
    "new = list_keys_two['mean']"
   ]
  },
  {
   "cell_type": "code",
   "execution_count": 153,
   "metadata": {},
   "outputs": [
    {
     "name": "stdout",
     "output_type": "stream",
     "text": [
      "513 2325 2281 1124 333\n"
     ]
    }
   ],
   "source": [
    "#0-2, 2-5, 5-8, 8-13, 13-20\n",
    "#The above are the ranges in which the groups will be divided.\n",
    "\n",
    "range1 , range2, range3, range4, range5 = 0, 0, 0, 0, 0\n",
    "for i in range(len(new)):\n",
    "    if new[i]>=0 and new[i]<=2:\n",
    "        range1 = range1 + list_freq[i]\n",
    "    if new[i]>=2 and new[i]<=5:\n",
    "        range2 = range2 + list_freq[i]\n",
    "    if new[i]>=5 and new[i]<=8:\n",
    "        range3 = range3 + list_freq[i]\n",
    "    if new[i]>=8 and new[i]<=13:\n",
    "        range4 = range4 + list_freq[i]\n",
    "    if new[i]>=13:\n",
    "        range5 = range5 + list_freq[i]\n",
    "        \n",
    "print(range1, range2, range3, range4, range5)"
   ]
  },
  {
   "cell_type": "code",
   "execution_count": 154,
   "metadata": {},
   "outputs": [],
   "source": [
    "y_exp = []\n",
    "y_exp.append(range1), y_exp.append(range2), y_exp.append(range3), y_exp.append(range4)\n",
    "y_exp.append(range5)"
   ]
  },
  {
   "cell_type": "code",
   "execution_count": 155,
   "metadata": {},
   "outputs": [],
   "source": [
    "name_list = [\"0-2\",\"2-5\",\"5-8\",\"8-13\",\">13\"]\n",
    "p = [i for i in range(len(y_exp))]"
   ]
  },
  {
   "cell_type": "code",
   "execution_count": 217,
   "metadata": {},
   "outputs": [
    {
     "data": {
      "image/png": "[encoded data removed]",
      "text/plain": [
       "<Figure size 1080x432 with 1 Axes>"
      ]
     },
     "metadata": {
      "needs_background": "light"
     },
     "output_type": "display_data"
    }
   ],
   "source": [
    "import matplotlib.pyplot as plt\n",
    "plt.figure(figsize=(15,6))\n",
    "x = plt.bar(name_list,y_exp, align='center', alpha = 0.5, color = 'red')\n",
    "plt.xticks(fontsize=15)\n",
    "plt.yticks(fontsize=15)\n",
    "plt.xticks(p,name_list)\n",
    "plt.xlabel('Average Experience')\n",
    "plt.ylabel('No. of jobs')\n",
    "plt.show()"
   ]
  },
  {
   "cell_type": "code",
   "execution_count": 219,
   "metadata": {},
   "outputs": [
    {
     "data": {
      "image/png": "[encoded data removed]",
      "text/plain": [
       "<Figure size 1080x720 with 1 Axes>"
      ]
     },
     "metadata": {},
     "output_type": "display_data"
    }
   ],
   "source": [
    "colors = ['gold', 'yellowgreen', 'lightcoral', 'lightskyblue', 'pink']\n",
    "plt.figure(figsize=(15,10))\n",
    "plt.pie(y_exp, labels=name_list, colors=colors,  autopct='%1.1f%%')\n",
    "plt.axis('equal')\n",
    "plt.show()"
   ]
  },
  {
   "cell_type": "markdown",
   "metadata": {},
   "source": [
    "### We will not do analysis based on salary because most of the fields are Not disclosed"
   ]
  },
  {
   "cell_type": "code",
   "execution_count": 19,
   "metadata": {},
   "outputs": [
    {
     "data": {
      "text/html": [
       "<div>\n",
       "<style scoped>\n",
       "    .dataframe tbody tr th:only-of-type {\n",
       "        vertical-align: middle;\n",
       "    }\n",
       "\n",
       "    .dataframe tbody tr th {\n",
       "        vertical-align: top;\n",
       "    }\n",
       "\n",
       "    .dataframe thead th {\n",
       "        text-align: right;\n",
       "    }\n",
       "</style>\n",
       "<table border=\"1\" class=\"dataframe\">\n",
       "  <thead>\n",
       "    <tr style=\"text-align: right;\">\n",
       "      <th></th>\n",
       "      <th>Unnamed: 0</th>\n",
       "      <th>roles</th>\n",
       "      <th>companies</th>\n",
       "      <th>locations</th>\n",
       "      <th>experience</th>\n",
       "      <th>skills</th>\n",
       "      <th>salary</th>\n",
       "      <th>job_desc</th>\n",
       "      <th>clean_exp</th>\n",
       "      <th>freq_exp</th>\n",
       "    </tr>\n",
       "  </thead>\n",
       "  <tbody>\n",
       "    <tr>\n",
       "      <th>0</th>\n",
       "      <td>0</td>\n",
       "      <td>artificial intelligence/machine learning/data ...</td>\n",
       "      <td>spectrum consultants india pvt ltd.</td>\n",
       "      <td>bengaluru</td>\n",
       "      <td>8-13 yrs</td>\n",
       "      <td>[computer science, electrical engineering, dee...</td>\n",
       "      <td>not disclosed</td>\n",
       "      <td>master s or phd in computer science, electrica...</td>\n",
       "      <td>[8, 13 ]</td>\n",
       "      <td>146</td>\n",
       "    </tr>\n",
       "    <tr>\n",
       "      <th>1</th>\n",
       "      <td>1</td>\n",
       "      <td>machine learning engineer</td>\n",
       "      <td>alstom transport india ltd.</td>\n",
       "      <td>bengaluru</td>\n",
       "      <td>2-7 yrs</td>\n",
       "      <td>[nlp, artificial intelligence, neural networks...</td>\n",
       "      <td>not disclosed</td>\n",
       "      <td>understanding and experience with leading supe...</td>\n",
       "      <td>[2, 7 ]</td>\n",
       "      <td>249</td>\n",
       "    </tr>\n",
       "    <tr>\n",
       "      <th>2</th>\n",
       "      <td>2</td>\n",
       "      <td>data scientist, machine learning</td>\n",
       "      <td>fractal analytics ltd</td>\n",
       "      <td>bengaluru</td>\n",
       "      <td>3-7 yrs</td>\n",
       "      <td>[supply chain management, linux, rf, rdbms, bf...</td>\n",
       "      <td>not disclosed</td>\n",
       "      <td>experience of working on end-to-end data scien...</td>\n",
       "      <td>[3, 7 ]</td>\n",
       "      <td>174</td>\n",
       "    </tr>\n",
       "  </tbody>\n",
       "</table>\n",
       "</div>"
      ],
      "text/plain": [
       "  Unnamed: 0                                              roles  \\\n",
       "0          0  artificial intelligence/machine learning/data ...   \n",
       "1          1                          machine learning engineer   \n",
       "2          2                   data scientist, machine learning   \n",
       "\n",
       "                             companies  locations experience  \\\n",
       "0  spectrum consultants india pvt ltd.  bengaluru   8-13 yrs   \n",
       "1          alstom transport india ltd.  bengaluru    2-7 yrs   \n",
       "2                fractal analytics ltd  bengaluru    3-7 yrs   \n",
       "\n",
       "                                              skills         salary  \\\n",
       "0  [computer science, electrical engineering, dee...  not disclosed   \n",
       "1  [nlp, artificial intelligence, neural networks...  not disclosed   \n",
       "2  [supply chain management, linux, rf, rdbms, bf...  not disclosed   \n",
       "\n",
       "                                            job_desc clean_exp  freq_exp  \n",
       "0  master s or phd in computer science, electrica...  [8, 13 ]       146  \n",
       "1  understanding and experience with leading supe...   [2, 7 ]       249  \n",
       "2  experience of working on end-to-end data scien...   [3, 7 ]       174  "
      ]
     },
     "execution_count": 19,
     "metadata": {},
     "output_type": "execute_result"
    }
   ],
   "source": [
    "data.head(3)"
   ]
  },
  {
   "cell_type": "code",
   "execution_count": 20,
   "metadata": {},
   "outputs": [],
   "source": [
    "dic_location = {}"
   ]
  },
  {
   "cell_type": "code",
   "execution_count": 21,
   "metadata": {},
   "outputs": [],
   "source": [
    "data['freq_loc'] = data.groupby('locations')['locations'].transform('count')\n",
    "for i in range(len(data)):\n",
    "    loc = data['locations'][i]\n",
    "    freq = data['freq_loc'][i]\n",
    "    dic_location.update({loc: freq})"
   ]
  },
  {
   "cell_type": "code",
   "execution_count": 22,
   "metadata": {},
   "outputs": [],
   "source": [
    "loc_list_new = list(dic_location.keys())\n",
    "loc_freq_new = list(dic_location.values())"
   ]
  },
  {
   "cell_type": "markdown",
   "metadata": {},
   "source": [
    "Now I will just show the top 8 cities in the plot whihc have the most jobs. <br> So for that first I will sort the dictionary accorsing to the value and then take top 8 amd then plot them."
   ]
  },
  {
   "cell_type": "code",
   "execution_count": 23,
   "metadata": {},
   "outputs": [],
   "source": [
    "import operator\n",
    "sorted_dic = sorted(dic_location.items(), key = operator.itemgetter(1), reverse=True)"
   ]
  },
  {
   "cell_type": "code",
   "execution_count": 24,
   "metadata": {},
   "outputs": [],
   "source": [
    "def get_top_n(sorted_dictionary, n, list_key, list_val):\n",
    "    for i in range(n):\n",
    "        list_key.append(sorted_dictionary[i][0])\n",
    "    for i in range(n):\n",
    "        list_val.append(sorted_dictionary[i][1])\n",
    "    return list_key, list_val"
   ]
  },
  {
   "cell_type": "code",
   "execution_count": 25,
   "metadata": {},
   "outputs": [],
   "source": [
    "list_key = []\n",
    "list_val = []\n",
    "loc_key, loc_val = get_top_n(sorted_dic, 8, list_key, list_val)"
   ]
  },
  {
   "cell_type": "code",
   "execution_count": 41,
   "metadata": {},
   "outputs": [
    {
     "data": {
      "image/png": "[encoded data removed]",
      "text/plain": [
       "<Figure size 1440x576 with 1 Axes>"
      ]
     },
     "metadata": {
      "needs_background": "light"
     },
     "output_type": "display_data"
    }
   ],
   "source": [
    "import matplotlib.pyplot as plt\n",
    "plt.figure(figsize = (20,8))\n",
    "#plt.rcParams.update({'font.size': 18})\n",
    "p = [i for i in range(len(loc_key))]\n",
    "x = plt.bar(p, loc_val, align='center', alpha = 0.8, color = 'green')\n",
    "plt.xticks(p, loc_key)\n",
    "plt.xticks(fontsize=15)\n",
    "plt.yticks(fontsize=15)\n",
    "plt.xlabel('Location')\n",
    "plt.ylabel('No of jobs')\n",
    "plt.show()"
   ]
  },
  {
   "cell_type": "markdown",
   "metadata": {},
   "source": [
    "So, from the above analysis, we can see that Bangalore has the most number of jobs."
   ]
  },
  {
   "cell_type": "markdown",
   "metadata": {},
   "source": [
    "### Lets  find what are the most frequent skills in this job and perform some analysis on it"
   ]
  },
  {
   "cell_type": "code",
   "execution_count": 42,
   "metadata": {},
   "outputs": [],
   "source": [
    "x = list(data['skills'])\n",
    "from collections import defaultdict\n",
    "dic = defaultdict(int)\n",
    "\n",
    "for i in range(len(x)):\n",
    "    for req in x[i]:\n",
    "        dic[req] += 1"
   ]
  },
  {
   "cell_type": "code",
   "execution_count": 43,
   "metadata": {},
   "outputs": [],
   "source": [
    "req_sorted = sorted(dic.items(), key = operator.itemgetter(1), reverse=True)"
   ]
  },
  {
   "cell_type": "markdown",
   "metadata": {},
   "source": [
    "req_sorted has so many skills, lets take top 10 skills required"
   ]
  },
  {
   "cell_type": "code",
   "execution_count": 48,
   "metadata": {},
   "outputs": [],
   "source": [
    "key_req = []\n",
    "val_req = []\n",
    "\n",
    "key_req, val_req = get_top_n(req_sorted, 10, key_req, val_req)"
   ]
  },
  {
   "cell_type": "code",
   "execution_count": 64,
   "metadata": {},
   "outputs": [
    {
     "data": {
      "image/png": "[encoded data removed]",
      "text/plain": [
       "<Figure size 1080x576 with 1 Axes>"
      ]
     },
     "metadata": {
      "needs_background": "light"
     },
     "output_type": "display_data"
    }
   ],
   "source": [
    "plt.figure(figsize = (15,8))\n",
    "p = [i for i in range(len(key_req))]\n",
    "x = plt.bar(p, val_req, align = 'center' , alpha = 1 ,color = 'maroon')\n",
    "plt.rcParams.update({'font.size': 15})\n",
    "plt.xticks(fontsize=15, rotation=90)\n",
    "plt.yticks(fontsize=15)\n",
    "plt.xticks(p, key_req)\n",
    "plt.xlabel('Skills')\n",
    "plt.ylabel('Number of jobs')\n",
    "plt.show()"
   ]
  }
 ],
 "metadata": {
  "kernelspec": {
   "display_name": "Python 3",
   "language": "python",
   "name": "python3"
  },
  "language_info": {
   "codemirror_mode": {
    "name": "ipython",
    "version": 3
   },
   "file_extension": ".py",
   "mimetype": "text/x-python",
   "name": "python",
   "nbconvert_exporter": "python",
   "pygments_lexer": "ipython3",
   "version": "3.7.4"
  }
 },
 "nbformat": 4,
 "nbformat_minor": 2
}
